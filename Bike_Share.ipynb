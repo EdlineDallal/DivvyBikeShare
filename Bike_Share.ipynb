{
 "cells": [
  {
   "cell_type": "markdown",
   "id": "1275f768-86c7-4e1f-a1bd-16cd81cdc6d5",
   "metadata": {
    "execution": {
     "iopub.execute_input": "2022-11-12T09:01:56.136037Z",
     "iopub.status.busy": "2022-11-12T09:01:56.135700Z",
     "iopub.status.idle": "2022-11-12T09:01:56.142113Z",
     "shell.execute_reply": "2022-11-12T09:01:56.140901Z",
     "shell.execute_reply.started": "2022-11-12T09:01:56.136008Z"
    }
   },
   "source": [
    "\n",
    "# INTRODUCTION\n",
    "### Title: Divvy Bike Share \n",
    "\n",
    "### Author: Edline Dallal\n",
    "\n",
    "### Date: 13/11/2022"
   ]
  },
  {
   "cell_type": "markdown",
   "id": "85dbedb1-e356-41bc-bc26-a501ee353e98",
   "metadata": {
    "execution": {
     "iopub.execute_input": "2022-11-12T09:02:16.280479Z",
     "iopub.status.busy": "2022-11-12T09:02:16.280181Z",
     "iopub.status.idle": "2022-11-12T09:02:16.329052Z",
     "shell.execute_reply": "2022-11-12T09:02:16.328162Z",
     "shell.execute_reply.started": "2022-11-12T09:02:16.280451Z"
    },
    "tags": []
   },
   "source": [
    "## STEP 1: ASK\n",
    "#### Case Study Question? \n",
    "- #### How Does a Bike-Share Navigate Speedy Success?\n",
    "#### 1.2 Business Task:\n",
    "Analyze Divvy dataset to gain insights into how consumers are using bicycles and discover trends and insights for Divvy Share marketing strategy.\n",
    "#### 1.3 Business Objectives:\n",
    "1. How do annual members and casual riders use Cyclistic bikes differently?\n",
    "2. Why would casual riders buy Cyclistic annual memberships?\n",
    "3. How can Cyclistic use digital media to influence casual riders to become members?\n"
   ]
  },
  {
   "cell_type": "markdown",
   "id": "182ff295-b69f-494f-aaee-38febb0d1994",
   "metadata": {},
   "source": [
    "## STEP 2: PREPARE\n",
    "#### 2.1 Information on Data Source:\n",
    "- The dataset is the Cyclistic’s (Divvy) historical trip data from 2021. It comprises a total of 12 files, one per month.\n",
    "- Data source: https://divvy-tripdata.s3.amazonaws.com/index.html\n",
    "\n",
    "#### 2.2 Data Selection:\n",
    "The following files were selected and merged for analysis into one dataset: \n",
    "    \n",
    "- 202101-divvy-tripdata.csv\n",
    "- 202102-divvy-tripdata.csv\n",
    "- 202103-divvy-tripdata.csv\n",
    "- 202104-divvy-tripdata.csv\n",
    "- 202105-divvy-tripdata.csv\n",
    "- 202106-divvy-tripdata.csv\n",
    "- 202107-divvy-tripdata.csv\n",
    "- 202108-divvy-tripdata.csv\n",
    "- 202109-divvy-tripdata.csv\n",
    "- 202110-divvy-tripdata.csv\n",
    "- 202111-divvy-tripdata.csv\n",
    "- 202112-divvy-tripdata.csv"
   ]
  },
  {
   "cell_type": "markdown",
   "id": "c2a32dfa-2018-43de-b035-3df0097d030e",
   "metadata": {
    "execution": {
     "iopub.execute_input": "2022-11-12T09:03:19.085500Z",
     "iopub.status.busy": "2022-11-12T09:03:19.085214Z",
     "iopub.status.idle": "2022-11-12T09:03:19.090723Z",
     "shell.execute_reply": "2022-11-12T09:03:19.089496Z",
     "shell.execute_reply.started": "2022-11-12T09:03:19.085473Z"
    }
   },
   "source": [
    "## STEP 3: PROCESS\n",
    "#### 3.1 Preparing the Environment\n",
    "install numPy, pandas, matplotlib, datetime, calendar and seaborn packages"
   ]
  },
  {
   "cell_type": "code",
   "execution_count": 46,
   "id": "a5adc68c-1b56-4318-8b6d-dbbd338d27fe",
   "metadata": {
    "execution": {
     "iopub.execute_input": "2023-03-15T15:36:55.662204Z",
     "iopub.status.busy": "2023-03-15T15:36:55.661918Z",
     "iopub.status.idle": "2023-03-15T15:36:55.666053Z",
     "shell.execute_reply": "2023-03-15T15:36:55.665260Z",
     "shell.execute_reply.started": "2023-03-15T15:36:55.662180Z"
    },
    "tags": []
   },
   "outputs": [],
   "source": [
    "import numpy as np\n",
    "import pandas as pd \n",
    "import matplotlib.pyplot as plt\n",
    "import datetime as dt\n",
    "import seaborn as sns\n",
    "import calendar"
   ]
  },
  {
   "cell_type": "code",
   "execution_count": 2,
   "id": "359b69f7-2823-4ad8-a483-480e16c4a88f",
   "metadata": {
    "execution": {
     "iopub.execute_input": "2023-03-15T14:58:37.855066Z",
     "iopub.status.busy": "2023-03-15T14:58:37.854762Z",
     "iopub.status.idle": "2023-03-15T14:58:58.006572Z",
     "shell.execute_reply": "2023-03-15T14:58:58.005835Z",
     "shell.execute_reply.started": "2023-03-15T14:58:37.855030Z"
    },
    "tags": []
   },
   "outputs": [],
   "source": [
    "# read_csv function to read the required CSV file\n",
    "m1 = pd.read_csv('202101-divvy-tripdata.csv')\n",
    "m2 = pd.read_csv('202102-divvy-tripdata.csv')\n",
    "m3 = pd.read_csv('202103-divvy-tripdata.csv')\n",
    "m4 = pd.read_csv('202104-divvy-tripdata.csv')\n",
    "m5 = pd.read_csv('202105-divvy-tripdata.csv')\n",
    "m6 = pd.read_csv('202106-divvy-tripdata.csv')\n",
    "m7 = pd.read_csv('202107-divvy-tripdata.csv')\n",
    "m8 = pd.read_csv('202108-divvy-tripdata.csv')\n",
    "m9 = pd.read_csv('202109-divvy-tripdata.csv')\n",
    "m10 = pd.read_csv('202110-divvy-tripdata.csv')\n",
    "m11 = pd.read_csv('202111-divvy-tripdata.csv')\n",
    "m12 = pd.read_csv('202112-divvy-tripdata.csv')"
   ]
  },
  {
   "cell_type": "code",
   "execution_count": 3,
   "id": "408d9761-c4f9-42a3-b79b-1b9fb6fdff5e",
   "metadata": {
    "execution": {
     "iopub.execute_input": "2023-03-15T14:58:58.010110Z",
     "iopub.status.busy": "2023-03-15T14:58:58.009835Z",
     "iopub.status.idle": "2023-03-15T14:58:59.540961Z",
     "shell.execute_reply": "2023-03-15T14:58:59.540119Z",
     "shell.execute_reply.started": "2023-03-15T14:58:58.010086Z"
    },
    "tags": []
   },
   "outputs": [
    {
     "data": {
      "text/html": [
       "<div>\n",
       "<style scoped>\n",
       "    .dataframe tbody tr th:only-of-type {\n",
       "        vertical-align: middle;\n",
       "    }\n",
       "\n",
       "    .dataframe tbody tr th {\n",
       "        vertical-align: top;\n",
       "    }\n",
       "\n",
       "    .dataframe thead th {\n",
       "        text-align: right;\n",
       "    }\n",
       "</style>\n",
       "<table border=\"1\" class=\"dataframe\">\n",
       "  <thead>\n",
       "    <tr style=\"text-align: right;\">\n",
       "      <th></th>\n",
       "      <th>ride_id</th>\n",
       "      <th>rideable_type</th>\n",
       "      <th>started_at</th>\n",
       "      <th>ended_at</th>\n",
       "      <th>start_station_name</th>\n",
       "      <th>start_station_id</th>\n",
       "      <th>end_station_name</th>\n",
       "      <th>end_station_id</th>\n",
       "      <th>start_lat</th>\n",
       "      <th>start_lng</th>\n",
       "      <th>end_lat</th>\n",
       "      <th>end_lng</th>\n",
       "      <th>member_casual</th>\n",
       "    </tr>\n",
       "  </thead>\n",
       "  <tbody>\n",
       "    <tr>\n",
       "      <th>0</th>\n",
       "      <td>E19E6F1B8D4C42ED</td>\n",
       "      <td>electric_bike</td>\n",
       "      <td>2021-01-23 16:14:19</td>\n",
       "      <td>2021-01-23 16:24:44</td>\n",
       "      <td>California Ave &amp; Cortez St</td>\n",
       "      <td>17660</td>\n",
       "      <td>NaN</td>\n",
       "      <td>NaN</td>\n",
       "      <td>41.900341</td>\n",
       "      <td>-87.696743</td>\n",
       "      <td>41.89</td>\n",
       "      <td>-87.72</td>\n",
       "      <td>member</td>\n",
       "    </tr>\n",
       "    <tr>\n",
       "      <th>1</th>\n",
       "      <td>DC88F20C2C55F27F</td>\n",
       "      <td>electric_bike</td>\n",
       "      <td>2021-01-27 18:43:08</td>\n",
       "      <td>2021-01-27 18:47:12</td>\n",
       "      <td>California Ave &amp; Cortez St</td>\n",
       "      <td>17660</td>\n",
       "      <td>NaN</td>\n",
       "      <td>NaN</td>\n",
       "      <td>41.900333</td>\n",
       "      <td>-87.696707</td>\n",
       "      <td>41.90</td>\n",
       "      <td>-87.69</td>\n",
       "      <td>member</td>\n",
       "    </tr>\n",
       "    <tr>\n",
       "      <th>2</th>\n",
       "      <td>EC45C94683FE3F27</td>\n",
       "      <td>electric_bike</td>\n",
       "      <td>2021-01-21 22:35:54</td>\n",
       "      <td>2021-01-21 22:37:14</td>\n",
       "      <td>California Ave &amp; Cortez St</td>\n",
       "      <td>17660</td>\n",
       "      <td>NaN</td>\n",
       "      <td>NaN</td>\n",
       "      <td>41.900313</td>\n",
       "      <td>-87.696643</td>\n",
       "      <td>41.90</td>\n",
       "      <td>-87.70</td>\n",
       "      <td>member</td>\n",
       "    </tr>\n",
       "    <tr>\n",
       "      <th>3</th>\n",
       "      <td>4FA453A75AE377DB</td>\n",
       "      <td>electric_bike</td>\n",
       "      <td>2021-01-07 13:31:13</td>\n",
       "      <td>2021-01-07 13:42:55</td>\n",
       "      <td>California Ave &amp; Cortez St</td>\n",
       "      <td>17660</td>\n",
       "      <td>NaN</td>\n",
       "      <td>NaN</td>\n",
       "      <td>41.900399</td>\n",
       "      <td>-87.696662</td>\n",
       "      <td>41.92</td>\n",
       "      <td>-87.69</td>\n",
       "      <td>member</td>\n",
       "    </tr>\n",
       "    <tr>\n",
       "      <th>4</th>\n",
       "      <td>BE5E8EB4E7263A0B</td>\n",
       "      <td>electric_bike</td>\n",
       "      <td>2021-01-23 02:24:02</td>\n",
       "      <td>2021-01-23 02:24:45</td>\n",
       "      <td>California Ave &amp; Cortez St</td>\n",
       "      <td>17660</td>\n",
       "      <td>NaN</td>\n",
       "      <td>NaN</td>\n",
       "      <td>41.900326</td>\n",
       "      <td>-87.696697</td>\n",
       "      <td>41.90</td>\n",
       "      <td>-87.70</td>\n",
       "      <td>casual</td>\n",
       "    </tr>\n",
       "  </tbody>\n",
       "</table>\n",
       "</div>"
      ],
      "text/plain": [
       "            ride_id  rideable_type           started_at             ended_at  \\\n",
       "0  E19E6F1B8D4C42ED  electric_bike  2021-01-23 16:14:19  2021-01-23 16:24:44   \n",
       "1  DC88F20C2C55F27F  electric_bike  2021-01-27 18:43:08  2021-01-27 18:47:12   \n",
       "2  EC45C94683FE3F27  electric_bike  2021-01-21 22:35:54  2021-01-21 22:37:14   \n",
       "3  4FA453A75AE377DB  electric_bike  2021-01-07 13:31:13  2021-01-07 13:42:55   \n",
       "4  BE5E8EB4E7263A0B  electric_bike  2021-01-23 02:24:02  2021-01-23 02:24:45   \n",
       "\n",
       "           start_station_name start_station_id end_station_name  \\\n",
       "0  California Ave & Cortez St            17660              NaN   \n",
       "1  California Ave & Cortez St            17660              NaN   \n",
       "2  California Ave & Cortez St            17660              NaN   \n",
       "3  California Ave & Cortez St            17660              NaN   \n",
       "4  California Ave & Cortez St            17660              NaN   \n",
       "\n",
       "  end_station_id  start_lat  start_lng  end_lat  end_lng member_casual  \n",
       "0            NaN  41.900341 -87.696743    41.89   -87.72        member  \n",
       "1            NaN  41.900333 -87.696707    41.90   -87.69        member  \n",
       "2            NaN  41.900313 -87.696643    41.90   -87.70        member  \n",
       "3            NaN  41.900399 -87.696662    41.92   -87.69        member  \n",
       "4            NaN  41.900326 -87.696697    41.90   -87.70        casual  "
      ]
     },
     "execution_count": 3,
     "metadata": {},
     "output_type": "execute_result"
    }
   ],
   "source": [
    "df = pd.concat([m1,m2,m3,m4,m5,m6,m7,m8,m9,m10,m11,m12], ignore_index = True)\n",
    "df.head()"
   ]
  },
  {
   "cell_type": "code",
   "execution_count": 4,
   "id": "87efdf13-980f-40cf-9587-2d3f9896e2d8",
   "metadata": {
    "execution": {
     "iopub.execute_input": "2023-03-15T14:58:59.542286Z",
     "iopub.status.busy": "2023-03-15T14:58:59.541998Z",
     "iopub.status.idle": "2023-03-15T14:58:59.547340Z",
     "shell.execute_reply": "2023-03-15T14:58:59.546808Z",
     "shell.execute_reply.started": "2023-03-15T14:58:59.542258Z"
    }
   },
   "outputs": [
    {
     "data": {
      "text/plain": [
       "Index(['ride_id', 'rideable_type', 'started_at', 'ended_at',\n",
       "       'start_station_name', 'start_station_id', 'end_station_name',\n",
       "       'end_station_id', 'start_lat', 'start_lng', 'end_lat', 'end_lng',\n",
       "       'member_casual'],\n",
       "      dtype='object')"
      ]
     },
     "execution_count": 4,
     "metadata": {},
     "output_type": "execute_result"
    }
   ],
   "source": [
    "df.columns"
   ]
  },
  {
   "cell_type": "code",
   "execution_count": 6,
   "id": "b3f4ee91-feaf-4569-889f-6ecd87a43704",
   "metadata": {
    "execution": {
     "iopub.execute_input": "2023-03-15T14:58:59.934148Z",
     "iopub.status.busy": "2023-03-15T14:58:59.933580Z",
     "iopub.status.idle": "2023-03-15T14:59:08.679382Z",
     "shell.execute_reply": "2023-03-15T14:59:08.678767Z",
     "shell.execute_reply.started": "2023-03-15T14:58:59.934088Z"
    },
    "tags": []
   },
   "outputs": [
    {
     "data": {
      "text/plain": [
       "ride_id                    0\n",
       "rideable_type              0\n",
       "started_at                 0\n",
       "ended_at                   0\n",
       "start_station_name    690809\n",
       "start_station_id      690806\n",
       "end_station_name      739170\n",
       "end_station_id        739170\n",
       "start_lat                  0\n",
       "start_lng                  0\n",
       "end_lat                 4771\n",
       "end_lng                 4771\n",
       "member_casual              0\n",
       "dtype: int64"
      ]
     },
     "execution_count": 6,
     "metadata": {},
     "output_type": "execute_result"
    }
   ],
   "source": [
    "#check for null values\n",
    "df.isnull().sum()"
   ]
  },
  {
   "cell_type": "markdown",
   "id": "98295612-e779-4beb-9031-eb7de881259f",
   "metadata": {},
   "source": [
    "the columns: start_station_name, start_station_id, end_station_name, end_station_id, end_lat, end_lng have nulls. \n",
    "for the purpose of this analysis  these columns will be dropped, we'll analyze the only ride_id,rideable_type, member_casual, started_at, ended_at"
   ]
  },
  {
   "cell_type": "code",
   "execution_count": 7,
   "id": "f5ede354-fac3-4e45-a9b6-2f39dfa89bb4",
   "metadata": {
    "execution": {
     "iopub.execute_input": "2023-03-15T14:59:08.680808Z",
     "iopub.status.busy": "2023-03-15T14:59:08.680314Z",
     "iopub.status.idle": "2023-03-15T14:59:08.692019Z",
     "shell.execute_reply": "2023-03-15T14:59:08.690977Z",
     "shell.execute_reply.started": "2023-03-15T14:59:08.680782Z"
    },
    "tags": []
   },
   "outputs": [
    {
     "data": {
      "text/plain": [
       "(5595063, 13)"
      ]
     },
     "execution_count": 7,
     "metadata": {},
     "output_type": "execute_result"
    }
   ],
   "source": [
    "#check for the shape of the dataset\n",
    "df.shape"
   ]
  },
  {
   "cell_type": "code",
   "execution_count": 8,
   "id": "05a22173-a98e-42cc-80da-279b9e24d1ff",
   "metadata": {
    "execution": {
     "iopub.execute_input": "2023-03-15T14:59:08.693916Z",
     "iopub.status.busy": "2023-03-15T14:59:08.693391Z",
     "iopub.status.idle": "2023-03-15T14:59:08.707725Z",
     "shell.execute_reply": "2023-03-15T14:59:08.706920Z",
     "shell.execute_reply.started": "2023-03-15T14:59:08.693847Z"
    },
    "tags": []
   },
   "outputs": [
    {
     "name": "stdout",
     "output_type": "stream",
     "text": [
      "<class 'pandas.core.frame.DataFrame'>\n",
      "RangeIndex: 5595063 entries, 0 to 5595062\n",
      "Data columns (total 13 columns):\n",
      " #   Column              Dtype  \n",
      "---  ------              -----  \n",
      " 0   ride_id             object \n",
      " 1   rideable_type       object \n",
      " 2   started_at          object \n",
      " 3   ended_at            object \n",
      " 4   start_station_name  object \n",
      " 5   start_station_id    object \n",
      " 6   end_station_name    object \n",
      " 7   end_station_id      object \n",
      " 8   start_lat           float64\n",
      " 9   start_lng           float64\n",
      " 10  end_lat             float64\n",
      " 11  end_lng             float64\n",
      " 12  member_casual       object \n",
      "dtypes: float64(4), object(9)\n",
      "memory usage: 554.9+ MB\n"
     ]
    }
   ],
   "source": [
    "#get info about dataset\n",
    "df.info()"
   ]
  },
  {
   "cell_type": "code",
   "execution_count": 9,
   "id": "5e02b2c0-b0f1-4694-a5c4-bd3b85c39d9f",
   "metadata": {
    "execution": {
     "iopub.execute_input": "2023-03-15T14:59:08.709468Z",
     "iopub.status.busy": "2023-03-15T14:59:08.709061Z",
     "iopub.status.idle": "2023-03-15T14:59:10.930273Z",
     "shell.execute_reply": "2023-03-15T14:59:10.929514Z",
     "shell.execute_reply.started": "2023-03-15T14:59:08.709433Z"
    },
    "tags": []
   },
   "outputs": [],
   "source": [
    "df = df.drop(columns=['start_station_name', 'start_station_id', 'end_station_name', 'end_station_id', 'start_lat', 'start_lng', 'end_lat', 'end_lng'])\n"
   ]
  },
  {
   "cell_type": "code",
   "execution_count": 10,
   "id": "5723c71d-48d5-42e4-8362-7cc5c51e1912",
   "metadata": {
    "execution": {
     "iopub.execute_input": "2023-03-15T14:59:10.931961Z",
     "iopub.status.busy": "2023-03-15T14:59:10.931492Z",
     "iopub.status.idle": "2023-03-15T14:59:14.857904Z",
     "shell.execute_reply": "2023-03-15T14:59:14.857172Z",
     "shell.execute_reply.started": "2023-03-15T14:59:10.931929Z"
    },
    "tags": []
   },
   "outputs": [],
   "source": [
    "df['started_at']= pd.to_datetime(df['started_at'])\n",
    "df['ended_at']= pd.to_datetime(df['ended_at'])"
   ]
  },
  {
   "cell_type": "code",
   "execution_count": 11,
   "id": "5109a653-477c-4bfd-a3e4-bdb09350a3ef",
   "metadata": {
    "execution": {
     "iopub.execute_input": "2023-03-15T14:59:14.859472Z",
     "iopub.status.busy": "2023-03-15T14:59:14.859177Z",
     "iopub.status.idle": "2023-03-15T14:59:14.871685Z",
     "shell.execute_reply": "2023-03-15T14:59:14.870632Z",
     "shell.execute_reply.started": "2023-03-15T14:59:14.859439Z"
    },
    "tags": []
   },
   "outputs": [
    {
     "name": "stdout",
     "output_type": "stream",
     "text": [
      "<class 'pandas.core.frame.DataFrame'>\n",
      "RangeIndex: 5595063 entries, 0 to 5595062\n",
      "Data columns (total 5 columns):\n",
      " #   Column         Dtype         \n",
      "---  ------         -----         \n",
      " 0   ride_id        object        \n",
      " 1   rideable_type  object        \n",
      " 2   started_at     datetime64[ns]\n",
      " 3   ended_at       datetime64[ns]\n",
      " 4   member_casual  object        \n",
      "dtypes: datetime64[ns](2), object(3)\n",
      "memory usage: 213.4+ MB\n"
     ]
    }
   ],
   "source": [
    "df.info()"
   ]
  },
  {
   "cell_type": "code",
   "execution_count": 5,
   "id": "ff524da1-e34f-4b15-ba60-d39280ba8b95",
   "metadata": {
    "execution": {
     "iopub.execute_input": "2023-03-15T14:58:59.548268Z",
     "iopub.status.busy": "2023-03-15T14:58:59.548109Z",
     "iopub.status.idle": "2023-03-15T14:58:59.932662Z",
     "shell.execute_reply": "2023-03-15T14:58:59.931941Z",
     "shell.execute_reply.started": "2023-03-15T14:58:59.548248Z"
    }
   },
   "outputs": [
    {
     "data": {
      "text/plain": [
       "classic_bike     3251028\n",
       "electric_bike    2031692\n",
       "docked_bike       312343\n",
       "Name: rideable_type, dtype: int64"
      ]
     },
     "execution_count": 5,
     "metadata": {},
     "output_type": "execute_result"
    }
   ],
   "source": [
    "df.rideable_type.value_counts()"
   ]
  },
  {
   "cell_type": "markdown",
   "id": "08921857-b515-4c3b-b6c4-9cf0115ca891",
   "metadata": {},
   "source": [
    "The rideable types has 3 types: classic bikes, electric bikes and docked bikes. the numbers shows that classic bikes are the most popular and useful type. "
   ]
  },
  {
   "cell_type": "code",
   "execution_count": 47,
   "id": "eb20152e-de68-44d8-847c-14be4275a821",
   "metadata": {
    "execution": {
     "iopub.execute_input": "2023-03-15T15:44:28.882359Z",
     "iopub.status.busy": "2023-03-15T15:44:28.881794Z",
     "iopub.status.idle": "2023-03-15T15:44:29.244085Z",
     "shell.execute_reply": "2023-03-15T15:44:29.243472Z",
     "shell.execute_reply.started": "2023-03-15T15:44:28.882297Z"
    }
   },
   "outputs": [
    {
     "data": {
      "text/plain": [
       "member    3066058\n",
       "casual    2529005\n",
       "Name: member_casual, dtype: int64"
      ]
     },
     "execution_count": 47,
     "metadata": {},
     "output_type": "execute_result"
    }
   ],
   "source": [
    "df.member_casual.value_counts()"
   ]
  },
  {
   "cell_type": "code",
   "execution_count": 12,
   "id": "c3091180-a2b2-4a42-baf8-6b846eb7c34d",
   "metadata": {
    "execution": {
     "iopub.execute_input": "2023-03-15T14:59:14.890387Z",
     "iopub.status.busy": "2023-03-15T14:59:14.889758Z",
     "iopub.status.idle": "2023-03-15T14:59:17.749228Z",
     "shell.execute_reply": "2023-03-15T14:59:17.748472Z",
     "shell.execute_reply.started": "2023-03-15T14:59:14.890300Z"
    },
    "tags": []
   },
   "outputs": [
    {
     "name": "stdout",
     "output_type": "stream",
     "text": [
      "# of unique ride Id: 5595063\n"
     ]
    }
   ],
   "source": [
    "# count distinct value of \"Id\"\n",
    "unique_id = len(pd.unique(df[\"ride_id\"]))\n",
    "  \n",
    "print(\"# of unique ride Id: \" + str(unique_id))"
   ]
  },
  {
   "cell_type": "code",
   "execution_count": 13,
   "id": "a1b7d4f5-14c0-46ee-97f4-2806a7f5bd49",
   "metadata": {
    "execution": {
     "iopub.execute_input": "2023-03-15T14:59:17.750453Z",
     "iopub.status.busy": "2023-03-15T14:59:17.750163Z",
     "iopub.status.idle": "2023-03-15T14:59:45.074366Z",
     "shell.execute_reply": "2023-03-15T14:59:45.073703Z",
     "shell.execute_reply.started": "2023-03-15T14:59:17.750427Z"
    },
    "tags": []
   },
   "outputs": [
    {
     "data": {
      "text/plain": [
       "1    5595063\n",
       "dtype: int64"
      ]
     },
     "execution_count": 13,
     "metadata": {},
     "output_type": "execute_result"
    }
   ],
   "source": [
    "df.groupby(['ride_id']).size().value_counts()"
   ]
  },
  {
   "cell_type": "code",
   "execution_count": 14,
   "id": "48e76bd1-2534-4170-bf51-9f60a5344826",
   "metadata": {
    "execution": {
     "iopub.execute_input": "2023-03-15T14:59:45.075768Z",
     "iopub.status.busy": "2023-03-15T14:59:45.075411Z",
     "iopub.status.idle": "2023-03-15T14:59:47.005364Z",
     "shell.execute_reply": "2023-03-15T14:59:47.004528Z",
     "shell.execute_reply.started": "2023-03-15T14:59:45.075712Z"
    },
    "tags": []
   },
   "outputs": [],
   "source": [
    "# create new column \"day_of_the_week\" to represent day of the week \n",
    "df[\"trip_day\"] = df[\"started_at\"].dt.day_name()"
   ]
  },
  {
   "cell_type": "code",
   "execution_count": 15,
   "id": "fec9ef66-11e6-4179-bc14-810bece4ec36",
   "metadata": {
    "execution": {
     "iopub.execute_input": "2023-03-15T14:59:47.009081Z",
     "iopub.status.busy": "2023-03-15T14:59:47.006670Z",
     "iopub.status.idle": "2023-03-15T14:59:48.706966Z",
     "shell.execute_reply": "2023-03-15T14:59:48.706178Z",
     "shell.execute_reply.started": "2023-03-15T14:59:47.008961Z"
    },
    "tags": []
   },
   "outputs": [],
   "source": [
    "#Make new column of month name\n",
    "df['month'] = pd.DatetimeIndex(df['started_at']).month\n",
    "df['month_name'] = df[\"started_at\"].dt.month_name()"
   ]
  },
  {
   "cell_type": "code",
   "execution_count": 16,
   "id": "4a94fb7e-3cca-4c29-9964-137e1e90ce64",
   "metadata": {
    "execution": {
     "iopub.execute_input": "2023-03-15T14:59:48.708453Z",
     "iopub.status.busy": "2023-03-15T14:59:48.708147Z",
     "iopub.status.idle": "2023-03-15T14:59:48.841296Z",
     "shell.execute_reply": "2023-03-15T14:59:48.840549Z",
     "shell.execute_reply.started": "2023-03-15T14:59:48.708429Z"
    },
    "tags": []
   },
   "outputs": [],
   "source": [
    "#create Trip Duration column\n",
    "df['trip_duration']= df['ended_at']- df['started_at']"
   ]
  },
  {
   "cell_type": "code",
   "execution_count": 17,
   "id": "1356440f-7cce-4424-bd65-27f125ba3d40",
   "metadata": {
    "execution": {
     "iopub.execute_input": "2023-03-15T14:59:48.843306Z",
     "iopub.status.busy": "2023-03-15T14:59:48.842888Z",
     "iopub.status.idle": "2023-03-15T14:59:51.966491Z",
     "shell.execute_reply": "2023-03-15T14:59:51.965677Z",
     "shell.execute_reply.started": "2023-03-15T14:59:48.843274Z"
    },
    "tags": []
   },
   "outputs": [],
   "source": [
    "casual= df[df['member_casual']=='casual']\n",
    "member= df[df['member_casual']=='member']"
   ]
  },
  {
   "cell_type": "markdown",
   "id": "48f4f042-45b0-4ce5-ac99-bed39adf8c5f",
   "metadata": {
    "tags": []
   },
   "source": [
    "Data cleaning and manipulation is completed. Hence, data is now ready to be analysed. "
   ]
  },
  {
   "cell_type": "markdown",
   "id": "2c43e2a9-c5e4-4034-86ad-fb144c77b118",
   "metadata": {},
   "source": [
    "# STEP 4: ANALYZE\n",
    "\n",
    "4.1 Perform calculations\n",
    "Pulling the statistics of df_activity for analysis:\n",
    "\n",
    "count - no. of rows\n",
    "mean (average)\n",
    "std (standard deviation)\n",
    "min and max\n",
    "percentiles 25%, 50%, 75%"
   ]
  },
  {
   "cell_type": "code",
   "execution_count": 19,
   "id": "65a29ba7-66fa-4f14-9c88-69ccc750d078",
   "metadata": {
    "execution": {
     "iopub.execute_input": "2023-03-15T14:59:51.975778Z",
     "iopub.status.busy": "2023-03-15T14:59:51.974695Z",
     "iopub.status.idle": "2023-03-15T14:59:52.298732Z",
     "shell.execute_reply": "2023-03-15T14:59:52.298073Z",
     "shell.execute_reply.started": "2023-03-15T14:59:51.975733Z"
    },
    "tags": []
   },
   "outputs": [
    {
     "data": {
      "text/html": [
       "<div>\n",
       "<style scoped>\n",
       "    .dataframe tbody tr th:only-of-type {\n",
       "        vertical-align: middle;\n",
       "    }\n",
       "\n",
       "    .dataframe tbody tr th {\n",
       "        vertical-align: top;\n",
       "    }\n",
       "\n",
       "    .dataframe thead th {\n",
       "        text-align: right;\n",
       "    }\n",
       "</style>\n",
       "<table border=\"1\" class=\"dataframe\">\n",
       "  <thead>\n",
       "    <tr style=\"text-align: right;\">\n",
       "      <th></th>\n",
       "      <th>month</th>\n",
       "      <th>trip_duration</th>\n",
       "    </tr>\n",
       "  </thead>\n",
       "  <tbody>\n",
       "    <tr>\n",
       "      <th>count</th>\n",
       "      <td>5.595063e+06</td>\n",
       "      <td>5595063</td>\n",
       "    </tr>\n",
       "    <tr>\n",
       "      <th>mean</th>\n",
       "      <td>7.418277e+00</td>\n",
       "      <td>0 days 00:21:56.120689615</td>\n",
       "    </tr>\n",
       "    <tr>\n",
       "      <th>std</th>\n",
       "      <td>2.492260e+00</td>\n",
       "      <td>0 days 02:58:20.085105105</td>\n",
       "    </tr>\n",
       "    <tr>\n",
       "      <th>min</th>\n",
       "      <td>1.000000e+00</td>\n",
       "      <td>-1 days +23:01:58</td>\n",
       "    </tr>\n",
       "    <tr>\n",
       "      <th>25%</th>\n",
       "      <td>6.000000e+00</td>\n",
       "      <td>0 days 00:06:45</td>\n",
       "    </tr>\n",
       "    <tr>\n",
       "      <th>50%</th>\n",
       "      <td>8.000000e+00</td>\n",
       "      <td>0 days 00:12:00</td>\n",
       "    </tr>\n",
       "    <tr>\n",
       "      <th>75%</th>\n",
       "      <td>9.000000e+00</td>\n",
       "      <td>0 days 00:21:47</td>\n",
       "    </tr>\n",
       "    <tr>\n",
       "      <th>max</th>\n",
       "      <td>1.200000e+01</td>\n",
       "      <td>38 days 20:24:09</td>\n",
       "    </tr>\n",
       "  </tbody>\n",
       "</table>\n",
       "</div>"
      ],
      "text/plain": [
       "              month              trip_duration\n",
       "count  5.595063e+06                    5595063\n",
       "mean   7.418277e+00  0 days 00:21:56.120689615\n",
       "std    2.492260e+00  0 days 02:58:20.085105105\n",
       "min    1.000000e+00          -1 days +23:01:58\n",
       "25%    6.000000e+00            0 days 00:06:45\n",
       "50%    8.000000e+00            0 days 00:12:00\n",
       "75%    9.000000e+00            0 days 00:21:47\n",
       "max    1.200000e+01           38 days 20:24:09"
      ]
     },
     "execution_count": 19,
     "metadata": {},
     "output_type": "execute_result"
    }
   ],
   "source": [
    "# pull general statistics\n",
    "df.describe()"
   ]
  },
  {
   "cell_type": "code",
   "execution_count": 20,
   "id": "2ed020c5-1b89-4a00-a547-be4eadfe337b",
   "metadata": {
    "execution": {
     "iopub.execute_input": "2023-03-15T14:59:52.300520Z",
     "iopub.status.busy": "2023-03-15T14:59:52.299866Z",
     "iopub.status.idle": "2023-03-15T14:59:52.666106Z",
     "shell.execute_reply": "2023-03-15T14:59:52.665411Z",
     "shell.execute_reply.started": "2023-03-15T14:59:52.300483Z"
    },
    "tags": []
   },
   "outputs": [
    {
     "data": {
      "text/plain": [
       "member    3066058\n",
       "casual    2529005\n",
       "Name: member_casual, dtype: int64"
      ]
     },
     "execution_count": 20,
     "metadata": {},
     "output_type": "execute_result"
    }
   ],
   "source": [
    "df['member_casual'].value_counts()"
   ]
  },
  {
   "cell_type": "code",
   "execution_count": 21,
   "id": "a1070288-2c44-454a-b9c0-d127619a8ec9",
   "metadata": {
    "execution": {
     "iopub.execute_input": "2023-03-15T14:59:52.667997Z",
     "iopub.status.busy": "2023-03-15T14:59:52.667317Z",
     "iopub.status.idle": "2023-03-15T14:59:53.898768Z",
     "shell.execute_reply": "2023-03-15T14:59:53.898131Z",
     "shell.execute_reply.started": "2023-03-15T14:59:52.667966Z"
    },
    "tags": []
   },
   "outputs": [
    {
     "data": {
      "text/plain": [
       "trip_day\n",
       "Friday       364080\n",
       "Monday       286376\n",
       "Saturday     558000\n",
       "Sunday       481143\n",
       "Thursday     286064\n",
       "Tuesday      274392\n",
       "Wednesday    278950\n",
       "Name: ride_id, dtype: int64"
      ]
     },
     "execution_count": 21,
     "metadata": {},
     "output_type": "execute_result"
    }
   ],
   "source": [
    "#rides on weekday: \n",
    "# For casual\n",
    "count_casual_weekday=df[df['member_casual']=='casual'].groupby('trip_day')['ride_id'].count()"
   ]
  },
  {
   "cell_type": "code",
   "execution_count": 22,
   "id": "784d2cee-7a13-4e38-8a2c-962f0e9b1d07",
   "metadata": {
    "execution": {
     "iopub.execute_input": "2023-03-15T14:59:53.899758Z",
     "iopub.status.busy": "2023-03-15T14:59:53.899582Z",
     "iopub.status.idle": "2023-03-15T14:59:55.117254Z",
     "shell.execute_reply": "2023-03-15T14:59:55.116573Z",
     "shell.execute_reply.started": "2023-03-15T14:59:53.899737Z"
    },
    "tags": []
   },
   "outputs": [
    {
     "data": {
      "text/plain": [
       "trip_day\n",
       "Friday       446428\n",
       "Monday       416212\n",
       "Saturday     433047\n",
       "Sunday       376142\n",
       "Thursday     451524\n",
       "Tuesday      465513\n",
       "Wednesday    477192\n",
       "Name: ride_id, dtype: int64"
      ]
     },
     "execution_count": 22,
     "metadata": {},
     "output_type": "execute_result"
    }
   ],
   "source": [
    "#rides on weekday: \n",
    "# For member\n",
    "count_member_weekday=df[df['member_casual']=='member'].groupby('trip_day')['ride_id'].count()"
   ]
  },
  {
   "cell_type": "code",
   "execution_count": 24,
   "id": "ae08b4f1-07b5-4190-ae73-bfb5f94508a3",
   "metadata": {
    "execution": {
     "iopub.execute_input": "2023-03-15T14:59:57.077397Z",
     "iopub.status.busy": "2023-03-15T14:59:57.076647Z",
     "iopub.status.idle": "2023-03-15T14:59:57.782529Z",
     "shell.execute_reply": "2023-03-15T14:59:57.781698Z",
     "shell.execute_reply.started": "2023-03-15T14:59:57.077361Z"
    },
    "tags": []
   },
   "outputs": [
    {
     "data": {
      "text/plain": [
       "month  member_casual\n",
       "1      member            78717\n",
       "       casual            18117\n",
       "2      member            39491\n",
       "       casual            10131\n",
       "3      member           144463\n",
       "       casual            84033\n",
       "4      member           200629\n",
       "       casual           136601\n",
       "5      member           274717\n",
       "       casual           256916\n",
       "6      casual           370681\n",
       "       member           358914\n",
       "7      casual           442056\n",
       "       member           380354\n",
       "8      casual           412671\n",
       "       member           391681\n",
       "9      member           392257\n",
       "       casual           363890\n",
       "10     member           373984\n",
       "       casual           257242\n",
       "11     member           253049\n",
       "       casual           106929\n",
       "12     member           177802\n",
       "       casual            69738\n",
       "Name: member_casual, dtype: int64"
      ]
     },
     "execution_count": 24,
     "metadata": {},
     "output_type": "execute_result"
    }
   ],
   "source": [
    "# Number of users over month\n",
    "users_over_month = df.groupby('month')['member_casual'].value_counts()"
   ]
  },
  {
   "cell_type": "code",
   "execution_count": 25,
   "id": "63380b1c-35bd-4219-bea1-724f579134a9",
   "metadata": {
    "execution": {
     "iopub.execute_input": "2023-03-15T14:59:57.784154Z",
     "iopub.status.busy": "2023-03-15T14:59:57.783693Z",
     "iopub.status.idle": "2023-03-15T14:59:58.171180Z",
     "shell.execute_reply": "2023-03-15T14:59:58.170464Z",
     "shell.execute_reply.started": "2023-03-15T14:59:57.784128Z"
    },
    "tags": []
   },
   "outputs": [
    {
     "data": {
      "text/plain": [
       "trip_day\n",
       "Friday      0 days 00:20:58.300338799\n",
       "Monday      0 days 00:20:50.400399665\n",
       "Saturday    0 days 00:26:12.642935198\n",
       "Sunday      0 days 00:27:56.953633855\n",
       "Thursday    0 days 00:18:33.923176624\n",
       "Tuesday     0 days 00:18:25.134849744\n",
       "Wednesday   0 days 00:18:17.542444408\n",
       "Name: trip_duration, dtype: timedelta64[ns]"
      ]
     },
     "execution_count": 25,
     "metadata": {},
     "output_type": "execute_result"
    }
   ],
   "source": [
    "# Average ride length by weekday\n",
    "user_avg_ride_len_weekday=df.groupby('trip_day')['trip_duration'].mean(numeric_only=False)"
   ]
  },
  {
   "cell_type": "code",
   "execution_count": 26,
   "id": "5a33e8fa-ebdf-4a6a-9fc6-3fb8a866f35c",
   "metadata": {
    "execution": {
     "iopub.execute_input": "2023-03-15T14:59:58.172845Z",
     "iopub.status.busy": "2023-03-15T14:59:58.172176Z",
     "iopub.status.idle": "2023-03-15T14:59:59.327358Z",
     "shell.execute_reply": "2023-03-15T14:59:59.326571Z",
     "shell.execute_reply.started": "2023-03-15T14:59:58.172817Z"
    },
    "tags": []
   },
   "outputs": [
    {
     "data": {
      "text/plain": [
       "trip_day\n",
       "Friday      0 days 00:13:19.485428781\n",
       "Monday      0 days 00:13:14.836198860\n",
       "Saturday    0 days 00:15:15.861204442\n",
       "Sunday      0 days 00:15:39.270318124\n",
       "Thursday    0 days 00:12:46.564082972\n",
       "Tuesday     0 days 00:12:47.280000773\n",
       "Wednesday   0 days 00:12:49.084446092\n",
       "Name: trip_duration, dtype: timedelta64[ns]"
      ]
     },
     "execution_count": 26,
     "metadata": {},
     "output_type": "execute_result"
    }
   ],
   "source": [
    "# Average ride length for members by weekdays\n",
    "member_avg_ride_len_weekday=df[df['member_casual']=='member'].groupby('trip_day')['trip_duration'].mean(numeric_only=False)"
   ]
  },
  {
   "cell_type": "code",
   "execution_count": 27,
   "id": "b132906e-ca2c-43ce-a600-1c68b91e91e5",
   "metadata": {
    "execution": {
     "iopub.execute_input": "2023-03-15T14:59:59.329207Z",
     "iopub.status.busy": "2023-03-15T14:59:59.328688Z",
     "iopub.status.idle": "2023-03-15T15:00:00.488797Z",
     "shell.execute_reply": "2023-03-15T15:00:00.488129Z",
     "shell.execute_reply.started": "2023-03-15T14:59:59.329173Z"
    },
    "tags": []
   },
   "outputs": [
    {
     "data": {
      "text/plain": [
       "trip_day\n",
       "Friday      0 days 00:30:20.890491100\n",
       "Monday      0 days 00:31:52.506467022\n",
       "Saturday    0 days 00:34:42.351462365\n",
       "Sunday      0 days 00:37:33.650536327\n",
       "Thursday    0 days 00:27:42.195477235\n",
       "Tuesday     0 days 00:27:58.314185544\n",
       "Wednesday   0 days 00:27:39.426398996\n",
       "Name: trip_duration, dtype: timedelta64[ns]"
      ]
     },
     "execution_count": 27,
     "metadata": {},
     "output_type": "execute_result"
    }
   ],
   "source": [
    "# Average ride length for casuals by weekdays\n",
    "casual_avg_ride_len_weekday=df[df['member_casual']=='casual'].groupby('trip_day')['trip_duration'].mean(numeric_only=False)"
   ]
  },
  {
   "cell_type": "markdown",
   "id": "ab299c04-3f31-432a-bd70-9fda91405577",
   "metadata": {
    "tags": []
   },
   "source": [
    "# STEP 5: SHARE\n",
    "\n",
    "In this step, we will create visualizations and communicate our findings based on our analysis.\n",
    "\n",
    "### 5.1 Data Visualisation and Findings"
   ]
  },
  {
   "cell_type": "markdown",
   "id": "1a96ef55-e821-4831-a619-4cb82554f5cd",
   "metadata": {
    "tags": []
   },
   "source": [
    "### Histogram"
   ]
  },
  {
   "cell_type": "code",
   "execution_count": 28,
   "id": "db7a8c62-02bf-481d-ac7a-2f06d4e10881",
   "metadata": {
    "execution": {
     "iopub.execute_input": "2023-03-15T15:00:00.490210Z",
     "iopub.status.busy": "2023-03-15T15:00:00.489803Z",
     "iopub.status.idle": "2023-03-15T15:00:03.500047Z",
     "shell.execute_reply": "2023-03-15T15:00:03.498959Z",
     "shell.execute_reply.started": "2023-03-15T15:00:00.490172Z"
    },
    "tags": []
   },
   "outputs": [
    {
     "data": {
      "image/png": "[encoded data removed]",
      "text/plain": [
       "<Figure size 576x288 with 1 Axes>"
      ]
     },
     "metadata": {
      "needs_background": "light"
     },
     "output_type": "display_data"
    }
   ],
   "source": [
    "#plot the rider type count \n",
    "plt.figure(figsize=(8,4))\n",
    "sns.countplot(data= df, x= 'member_casual', palette= 'viridis')\n",
    "plt.title('Riders Type Count')\n",
    "plt.xlabel('Riders Type')\n",
    "plt.ylabel('Number of Rides')\n",
    "plt.show()"
   ]
  },
  {
   "cell_type": "markdown",
   "id": "62405617-51d6-4a44-b74a-dab934f09770",
   "metadata": {
    "execution": {
     "iopub.execute_input": "2023-03-15T13:22:01.353153Z",
     "iopub.status.busy": "2023-03-15T13:22:01.352526Z",
     "iopub.status.idle": "2023-03-15T13:22:01.675506Z",
     "shell.execute_reply": "2023-03-15T13:22:01.674685Z",
     "shell.execute_reply.started": "2023-03-15T13:22:01.353119Z"
    }
   },
   "source": [
    "The plot shows the total number of rides for each type of user: member and casual. \n",
    "The data indicates that there were 3,066,058 rides taken by members and 2,529,005 rides taken by casual users."
   ]
  },
  {
   "cell_type": "code",
   "execution_count": 29,
   "id": "7aee3770-b190-4562-9b50-2686e9d46434",
   "metadata": {
    "execution": {
     "iopub.execute_input": "2023-03-15T15:00:03.501753Z",
     "iopub.status.busy": "2023-03-15T15:00:03.501432Z",
     "iopub.status.idle": "2023-03-15T15:00:06.406278Z",
     "shell.execute_reply": "2023-03-15T15:00:06.405458Z",
     "shell.execute_reply.started": "2023-03-15T15:00:03.501723Z"
    },
    "tags": []
   },
   "outputs": [
    {
     "data": {
      "image/png": "[encoded data removed]",
      "text/plain": [
       "<Figure size 576x288 with 1 Axes>"
      ]
     },
     "metadata": {
      "needs_background": "light"
     },
     "output_type": "display_data"
    }
   ],
   "source": [
    "#plot the rideable_type count \n",
    "# create a bar chart of the most popular rideable types\n",
    "plt.figure(figsize=(8,4))\n",
    "sns.countplot(data= df, x='rideable_type',palette= 'viridis' )\n",
    "plt.title('Rideable Types')\n",
    "plt.xlabel('Rideable Type')\n",
    "plt.ylabel('Number of Rides')\n",
    "plt.show()"
   ]
  },
  {
   "cell_type": "markdown",
   "id": "15637610-1edb-4432-b290-bd1c93835bc4",
   "metadata": {},
   "source": [
    "The plot shows the number of rides taken by rideable types (classic, electric and docked). classic bikes are the most popular type of bike with a total count of 3251028. Electric bikes come second with a total count of 2031692, and docked bikes have the lowest count with 312343."
   ]
  },
  {
   "cell_type": "code",
   "execution_count": 30,
   "id": "f3ba33e4-2274-48e2-92e1-809a01eef1ae",
   "metadata": {
    "execution": {
     "iopub.execute_input": "2023-03-15T15:00:06.407764Z",
     "iopub.status.busy": "2023-03-15T15:00:06.407449Z",
     "iopub.status.idle": "2023-03-15T15:00:06.687700Z",
     "shell.execute_reply": "2023-03-15T15:00:06.686749Z",
     "shell.execute_reply.started": "2023-03-15T15:00:06.407738Z"
    },
    "tags": []
   },
   "outputs": [
    {
     "name": "stderr",
     "output_type": "stream",
     "text": [
      "/Users/edlinedallal/opt/anaconda3/lib/python3.9/site-packages/seaborn/_decorators.py:36: FutureWarning: Pass the following variables as keyword args: x, y. From version 0.12, the only valid positional argument will be `data`, and passing other arguments without an explicit keyword will result in an error or misinterpretation.\n",
      "  warnings.warn(\n"
     ]
    },
    {
     "data": {
      "image/png": "[encoded data removed]",
      "text/plain": [
       "<Figure size 720x432 with 1 Axes>"
      ]
     },
     "metadata": {
      "needs_background": "light"
     },
     "output_type": "display_data"
    }
   ],
   "source": [
    "# To segregate the number of users into member or casual riders over months\n",
    "import calendar\n",
    "list_month=[]\n",
    "list_x=[]\n",
    "list_y=list(users_over_month.values)\n",
    "for i,j in users_over_month.index:\n",
    "    month_name = calendar.month_name[i] # get the name of the month\n",
    "    list_x.append(j)\n",
    "    list_month.append(str(month_name))\n",
    "# Plot count of member and casual riders over the months  option 1: \n",
    "plt.figure(figsize=(10,6))\n",
    "sns.barplot(list_month, list_y, hue=list_x, palette = 'viridis' )\n",
    "plt.title('Number of members and casual riders over the months')\n",
    "plt.xticks(rotation= 45)\n",
    "plt.show()"
   ]
  },
  {
   "cell_type": "markdown",
   "id": "e952801e-f20b-4b28-b658-051126d99917",
   "metadata": {},
   "source": [
    "This plot shows the number of bike rentals by user type (member or casual) for each month across the year (Janurary- December). It appears that overall, the number of rentals is higher for members than for casual users. However, there is a notable spike in casual user rentals during the summer months (June-August) compared to other months that's could be due to the fact that casual riders may be tourists that uses the bikes mostly in the hot season, hence July and August, while the number of member rentals remains relatively stable throughout the year.\n",
    "\n",
    "\n",
    "\n"
   ]
  },
  {
   "cell_type": "markdown",
   "id": "82522388-7361-4a8c-837e-c687a2bf7c72",
   "metadata": {
    "tags": []
   },
   "source": [
    "### Duration "
   ]
  },
  {
   "cell_type": "code",
   "execution_count": 43,
   "id": "c72dd398-eefe-4e41-b547-01cddeb399b5",
   "metadata": {
    "execution": {
     "iopub.execute_input": "2023-03-15T15:14:42.383819Z",
     "iopub.status.busy": "2023-03-15T15:14:42.383457Z",
     "iopub.status.idle": "2023-03-15T15:14:43.010923Z",
     "shell.execute_reply": "2023-03-15T15:14:43.009984Z",
     "shell.execute_reply.started": "2023-03-15T15:14:42.383786Z"
    },
    "tags": []
   },
   "outputs": [
    {
     "data": {
      "image/png": "[encoded data removed]",
      "text/plain": [
       "<Figure size 720x432 with 1 Axes>"
      ]
     },
     "metadata": {
      "needs_background": "light"
     },
     "output_type": "display_data"
    }
   ],
   "source": [
    "# group data by day of week and user type, and calculate mean trip duration\n",
    "duration_week = df.groupby(['trip_day', 'member_casual'])['trip_duration'].mean().reset_index()\n",
    "\n",
    "# create the figure and axis objects\n",
    "fig, ax = plt.subplots(figsize=(10, 6))\n",
    "\n",
    "# set the bar width\n",
    "bar_width = 0.35\n",
    "\n",
    "# convert categorical variable to integers\n",
    "day_order = ['Sunday', 'Monday', 'Tuesday', 'Wednesday', 'Thursday', 'Friday', 'Saturday']\n",
    "duration_week['day_int'] = duration_week['trip_day'].cat.reorder_categories(day_order).cat.codes\n",
    "\n",
    "# plot the bars for members and casuals\n",
    "sns.barplot(x='day_int', y='trip_duration', hue='member_casual', data=duration_week, palette='viridis', ax=ax)\n",
    "\n",
    "# set the title, x and y labels, and legend\n",
    "ax.set_title('Average Trip Duration by Day of Week and User Type')\n",
    "ax.set_xlabel('Day of Week')\n",
    "ax.set_ylabel('Average Trip Duration (minutes)')\n",
    "ax.legend(title='User Type', loc='center left', bbox_to_anchor=(1.0, 0.5))\n",
    "\n",
    "# set the x ticks and labels\n",
    "ax.set_xticks(range(len(day_order)))\n",
    "ax.set_xticklabels(day_order)\n",
    "\n",
    "# show the plot\n",
    "plt.show()"
   ]
  },
  {
   "cell_type": "markdown",
   "id": "429e3981-f338-4634-a299-d3c862df08ad",
   "metadata": {},
   "source": [
    "The plot shows the average trip duration by day of the week for casual riders and member riders. \n",
    "- Casual:<br> \n",
    "According to the data, Sunday has the longest average trip duration at 37 minutes and 33 seconds, while Wednesday has the shortest average trip duration at 27 minutes and 39 seconds. The other days fall in between these two extremes.\n",
    "- Member: <br>\n",
    "According to the data, the shortest average trip durations occur on Tuesday, Wednesday, and Thursday, while the longest average trip durations occur on Sunday and Saturday."
   ]
  },
  {
   "cell_type": "code",
   "execution_count": 44,
   "id": "ed615d54-4e03-46c2-9745-6dff4ae8f4a7",
   "metadata": {
    "execution": {
     "iopub.execute_input": "2023-03-15T15:14:46.182103Z",
     "iopub.status.busy": "2023-03-15T15:14:46.181796Z",
     "iopub.status.idle": "2023-03-15T15:14:46.884022Z",
     "shell.execute_reply": "2023-03-15T15:14:46.883124Z",
     "shell.execute_reply.started": "2023-03-15T15:14:46.182077Z"
    },
    "tags": []
   },
   "outputs": [
    {
     "data": {
      "image/png": "[encoded data removed]",
      "text/plain": [
       "<Figure size 576x288 with 1 Axes>"
      ]
     },
     "metadata": {
      "needs_background": "light"
     },
     "output_type": "display_data"
    }
   ],
   "source": [
    "# calculate trip duration in minutes\n",
    "df['trip_duration'] = (pd.to_datetime(df['ended_at']) - pd.to_datetime(df['started_at'])).dt.seconds / 60\n",
    "\n",
    "# group data by rideable type and calculate the average trip duration\n",
    "rideable_duration = df.groupby('rideable_type')['trip_duration'].mean().reset_index()\n",
    "\n",
    "# plot bar chart of average trip duration by rideable type\n",
    "plt.figure(figsize=(8,4))\n",
    "sns.barplot(data=rideable_duration, x='rideable_type', y='trip_duration', palette='viridis')\n",
    "plt.xlabel('Rideable Type')\n",
    "plt.ylabel('Average Trip Duration (minutes)')\n",
    "plt.title('Average Trip Duration by Rideable Type')\n",
    "plt.show()"
   ]
  },
  {
   "cell_type": "markdown",
   "id": "e3019432-96d2-45d6-b3d8-973e5ee329df",
   "metadata": {},
   "source": [
    "Based on plot, we can see that the average trip duration varies by rideable type. Docked bikes have the longest average trip duration at 52.9 minutes, while electric bikes have the shortest at 16.1 minutes. Classic bikes have an average trip duration of 18.8 minutes. This suggests that riders may choose different types of bikes depending on the purpose of their trip or their preferred riding experience."
   ]
  },
  {
   "cell_type": "markdown",
   "id": "d4e55f86-67d2-4fe3-9448-9d18719c00d4",
   "metadata": {
    "tags": []
   },
   "source": [
    "#### Usage "
   ]
  },
  {
   "cell_type": "code",
   "execution_count": 34,
   "id": "9ddfa7a8-3196-4ee5-93aa-eeb80a16e6cc",
   "metadata": {
    "execution": {
     "iopub.execute_input": "2023-03-15T15:00:54.220699Z",
     "iopub.status.busy": "2023-03-15T15:00:54.220452Z",
     "iopub.status.idle": "2023-03-15T15:01:04.024642Z",
     "shell.execute_reply": "2023-03-15T15:01:04.023710Z",
     "shell.execute_reply.started": "2023-03-15T15:00:54.220674Z"
    },
    "tags": []
   },
   "outputs": [
    {
     "data": {
      "image/png": "[encoded data removed]",
      "text/plain": [
       "<Figure size 576x1008 with 3 Axes>"
      ]
     },
     "metadata": {
      "needs_background": "light"
     },
     "output_type": "display_data"
    }
   ],
   "source": [
    "# create a categorical column for day of the week\n",
    "day_order = ['Sunday', 'Monday', 'Tuesday', 'Wednesday', 'Thursday', 'Friday', 'Saturday']\n",
    "df['trip_day'] = pd.Categorical(df['trip_day'], categories=day_order, ordered=True)\n",
    "\n",
    "# create subplots for all three histograms\n",
    "fig, axs = plt.subplots(3, figsize=(8,14))\n",
    "\n",
    "# create a histogram of total riders across the week\n",
    "sns.histplot(ax=axs[0], data=df, x='trip_day', binwidth=2, bins=7, color=sns.color_palette('viridis', 3)[0] , edgecolor='white')\n",
    "axs[0].set_xlabel('Day of Week')\n",
    "axs[0].set_ylabel('Frequency')\n",
    "axs[0].set_title('Usage of Divvy Bike Share Across the Week by All Riders')\n",
    "axs[0].grid(False)\n",
    "\n",
    "# create a histogram of member riders across the week\n",
    "sns.histplot(ax=axs[1], data=member, x='trip_day', binwidth=2, bins=7, color=sns.color_palette('viridis', 3)[1], edgecolor='white')\n",
    "axs[1].set_xlabel('Day of Week')\n",
    "axs[1].set_ylabel('Frequency')\n",
    "axs[1].set_title('Usage of Divvy Bike Share Across the Week by Members')\n",
    "axs[1].grid(False)\n",
    "\n",
    "# create a histogram of casual riders across the week\n",
    "sns.histplot(ax=axs[2], data=casual, x='trip_day', binwidth=2, bins=7, color=sns.color_palette('viridis', 3)[2], edgecolor='white')\n",
    "axs[2].set_xlabel('Day of Week')\n",
    "axs[2].set_ylabel('Frequency')\n",
    "axs[2].set_title('Usage of Divvy Bike Share Across the Week by Casual Riders')\n",
    "axs[2].grid(False)\n",
    "\n",
    "# adjust spacing and display the plots\n",
    "fig.tight_layout()\n",
    "plt.savefig('1.png')\n",
    "\n",
    "plt.show()\n"
   ]
  },
  {
   "cell_type": "markdown",
   "id": "b7cbc3ec-c847-4a92-9ad0-4cfa89b163d6",
   "metadata": {},
   "source": [
    "- First plot: All riders:  <br> \n",
    "Based on the first plot, it appears that Saturdays are the most popular day for bike rentals with a total count of 991,047 rides, followed closely by Sundays with 857,285 rides. Fridays are the third most popular day with 810,508 rides. The remaining weekdays fall in the range of 702,588 to 756,142 rides, with Wednesdays having the highest count among them.\n",
    "\n",
    "- Second plot : Members: <br> \n",
    "Based on the second plot, it appers that the highest number of occurrences were recorded on Wednesday (477,192) and the lowest on Sunday (376,142). Looking at the data, it seems like the number of occurrences decreases from Wednesday to Sunday. This pattern is consistent with the fact that Wednesday and Thursday are typically considered the busiest days of the week, while Saturday and Sunday are often regarded as the weekend when fewer people engage in work-related activities.\n",
    "\n",
    "- Third plot :<br>\n",
    "Based on the second plot, it appers that the highest number of occurrences were recorded on Saturday (558,000) and the lowest on Tuesday (274,392).Unlike the previous data, this data shows a different pattern of occurrences throughout the week. The number of occurrences starts high on Saturday and gradually decreases towards Tuesday. This pattern is related to the fact that the riders are casual riders. "
   ]
  },
  {
   "cell_type": "code",
   "execution_count": 45,
   "id": "696f5ac4-1af8-44aa-b32a-0379957f277c",
   "metadata": {
    "execution": {
     "iopub.execute_input": "2023-03-15T15:15:49.051096Z",
     "iopub.status.busy": "2023-03-15T15:15:49.050810Z",
     "iopub.status.idle": "2023-03-15T15:15:51.152754Z",
     "shell.execute_reply": "2023-03-15T15:15:51.151894Z",
     "shell.execute_reply.started": "2023-03-15T15:15:49.051072Z"
    },
    "tags": []
   },
   "outputs": [
    {
     "data": {
      "image/png": "[encoded data removed]",
      "text/plain": [
       "<Figure size 576x288 with 1 Axes>"
      ]
     },
     "metadata": {
      "needs_background": "light"
     },
     "output_type": "display_data"
    }
   ],
   "source": [
    "# convert started_at column to datetime format and extract hour information\n",
    "df['started_at'] = pd.to_datetime(df['started_at'])\n",
    "df['hour'] = df['started_at'].dt.hour\n",
    "\n",
    "# create a pivot table with the count of rides by hour of day and member type\n",
    "pivot_table = df.pivot_table(values='ride_id', index='hour', columns='member_casual', aggfunc='count')\n",
    "\n",
    "# create a line chart to show the usage by hour of day by members and casuals\n",
    "plt.figure(figsize=(8,4))\n",
    "plt.plot(pivot_table['member'], label='Member', color= 'seagreen')\n",
    "plt.plot(pivot_table['casual'], label='Casual', color= 'steelblue')\n",
    "plt.title('Divvy Rides by Hour of Day and Member Type')\n",
    "plt.xlabel('Hour of Day')\n",
    "plt.ylabel('Number of Rides')\n",
    "plt.legend()\n",
    "plt.show()"
   ]
  },
  {
   "cell_type": "markdown",
   "id": "ad733743-257e-4b1c-b9fc-80aa2493692a",
   "metadata": {},
   "source": [
    "Tle plot represents the  rides by hour of day and member Type\n",
    "- Casual: <br>\n",
    "The plot shows the usage hour of the day by casual riders. \n",
    "We can see that the highest number of rides occur during the late afternoon/early evening hours, with 17:00 being the peak hour with 236,548 rides. This trend is expected as it corresponds with the end of typical work hours and the start of leisure time for most people.\n",
    "\n",
    "- member: <br>\n",
    "The plot shows the usage hour of the day by members. it appears that the peak usage hours are between 5 PM and 8 PM (17-19), with a total of 785,007 members using the service during these hours. The morning hours between 8 AM and 11 AM (8-10) also show a high usage rate, with a total of 459,811 members.\n"
   ]
  },
  {
   "cell_type": "code",
   "execution_count": 52,
   "id": "6481afdd-6084-4682-a31e-9939d3eda496",
   "metadata": {
    "execution": {
     "iopub.execute_input": "2023-03-15T18:12:05.415997Z",
     "iopub.status.busy": "2023-03-15T18:12:05.415387Z",
     "iopub.status.idle": "2023-03-15T18:12:07.242227Z",
     "shell.execute_reply": "2023-03-15T18:12:07.241607Z",
     "shell.execute_reply.started": "2023-03-15T18:12:05.415969Z"
    },
    "tags": []
   },
   "outputs": [
    {
     "data": {
      "image/png": "[encoded data removed]",
      "text/plain": [
       "<Figure size 576x288 with 2 Axes>"
      ]
     },
     "metadata": {
      "needs_background": "light"
     },
     "output_type": "display_data"
    }
   ],
   "source": [
    "# convert started_at column to datetime format and extract hour and day of week information\n",
    "df['started_at'] = pd.to_datetime(df['started_at'])\n",
    "df['hour'] = df['started_at'].dt.hour\n",
    "\n",
    "# create a heatmap of ride start times by hour and day of week\n",
    "pivot_table = df.pivot_table(values='ride_id', index='hour', columns='trip_day', aggfunc='count')\n",
    "plt.figure(figsize=(8,4))\n",
    "sns.heatmap(pivot_table,  xticklabels=day_order,  cmap='Blues', annot=False, cbar_kws={'label': 'Number of Rides'})\n",
    "plt.title('Divvy Rides by Day of Week and Hour')\n",
    "plt.xlabel('Day of Week')\n",
    "plt.ylabel('Hour of Week')\n",
    "plt.show()"
   ]
  },
  {
   "cell_type": "markdown",
   "id": "12659594-89a7-4537-a52e-687141c58755",
   "metadata": {},
   "source": [
    "This heatmap plot presents the number of rides during different hours of the day and days of the week. the plot shows that:\n",
    "\n",
    "- The number of rides is generally higher during the day than at night.\n",
    "- There is a peak in rides during the morning rush hour (7am-9am) and the evening rush hour (4pm-6pm) specialy from monday till friday.\n",
    "- There is a dip in rides during the late night/early morning hours (12am-6am).\n",
    "- Weekdays have more rides than weekends.\n",
    "- There is a difference in the rides between weekends and weekdays, on weekends the rides are along all day, while on weekdays the high numbers of rides are during morning rush hours or evening rush hours."
   ]
  },
  {
   "cell_type": "markdown",
   "id": "d995b5b7-60d4-4b18-978b-a9c02a9d8503",
   "metadata": {},
   "source": [
    "### Conclustion: "
   ]
  },
  {
   "cell_type": "markdown",
   "id": "96802b10-534c-4fb5-8de6-30d8243d611a",
   "metadata": {},
   "source": [
    "The analysis includes several plots that provide insights into the usage patterns of a bike-sharing service. The first plot shows the total number of rides by user type (member or casual) and rideable type (classic, electric, and docked). It reveals that members took more rides than casual users, and classic bikes were the most popular rideable type.\n",
    "\n",
    "The second plot shows the number of rentals by user type for each month across the year. It indicates that casual users rented more bikes during the summer months, while member rentals remained relatively stable throughout the year.\n",
    "\n",
    "The third plot shows the monthly bike rental count for two user types, members and casual users, over a year. Members rent more bikes than casual users overall, but there is a significant increase in casual user rentals during summer months, potentially due to tourism. In contrast, member rentals remain constant throughout the year.\n",
    "\n",
    "The fourth plot shows the average trip duration by day of the week for both member and casual riders. The data indicates that Sunday has the longest average trip duration for casual riders, while Sunday and Saturday have the longest average trip duration for member riders.\n",
    "\n",
    "The fifth plot shows the number of rides by day of the week. Saturdays are the most popular day for bike rentals, followed by Sundays and Fridays.\n",
    "\n",
    "The sixth plot shows the usage hour of the day by casual and member riders. The data shows that both casual and member riders use the service the most during the late afternoon/early evening hours, with 17:00 being the peak hour.\n",
    "\n",
    "Finally, the heatmap plot shows the number of rides during different hours of the day and days of the week. It reveals that the number of rides is generally higher during the day than at night, with peaks during the morning and evening rush hours. Weekdays have more rides than weekends, and the busiest day of the week is typically Wednesday or Thursday.\n",
    "\n"
   ]
  },
  {
   "cell_type": "markdown",
   "id": "e80525a4-6f5f-441f-adc4-9e4e2cd2a963",
   "metadata": {},
   "source": [
    "### Recommendations:\n",
    "\n",
    "1) Increase the availability of classic bikes: As the most popular rideable type, it may be beneficial to increase the number of classic bikes available for rental to meet the high demand.\n",
    "\n",
    "2) Target casual riders during the summer months: Since casual ridership tends to spike during the summer months, it may be worth targeting marketing efforts towards tourists and other casual riders during this time.\n",
    "\n",
    "3) Consider offering discounts for off-peak hours: To encourage ridership during non-peak hours, offering discounts or promotions during these times may be an effective strategy.\n",
    "\n",
    "4) Expand availability of electric bikes: While electric bikes have a lower usage rate compared to classic bikes, they still have a considerable number of rentals. Expanding the availability of electric bikes may attract more riders who prefer this type of rideable.\n",
    "\n",
    "5) Increase marketing efforts during weekdays to attract more riders during slower periods."
   ]
  },
  {
   "cell_type": "code",
   "execution_count": null,
   "id": "22f51a39-88d3-447f-9b09-d671106a7816",
   "metadata": {},
   "outputs": [],
   "source": []
  }
 ],
 "metadata": {
  "kernelspec": {
   "display_name": "Python 3 (ipykernel)",
   "language": "python",
   "name": "python3"
  },
  "language_info": {
   "codemirror_mode": {
    "name": "ipython",
    "version": 3
   },
   "file_extension": ".py",
   "mimetype": "text/x-python",
   "name": "python",
   "nbconvert_exporter": "python",
   "pygments_lexer": "ipython3",
   "version": "3.9.12"
  }
 },
 "nbformat": 4,
 "nbformat_minor": 5
}
